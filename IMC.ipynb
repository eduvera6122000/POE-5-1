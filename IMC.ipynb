{
  "nbformat": 4,
  "nbformat_minor": 0,
  "metadata": {
    "colab": {
      "name": "IMC",
      "provenance": [],
      "collapsed_sections": [],
      "authorship_tag": "ABX9TyP6/PSf/1lDTGAqJOf7aFMQ",
      "include_colab_link": true
    },
    "kernelspec": {
      "name": "python3",
      "display_name": "Python 3"
    },
    "language_info": {
      "name": "python"
    }
  },
  "cells": [
    {
      "cell_type": "markdown",
      "metadata": {
        "id": "view-in-github",
        "colab_type": "text"
      },
      "source": [
        "<a href=\"https://colab.research.google.com/github/eduvera6122000/POE-5-1/blob/main/IMC.ipynb\" target=\"_parent\"><img src=\"https://colab.research.google.com/assets/colab-badge.svg\" alt=\"Open In Colab\"/></a>"
      ]
    },
    {
      "cell_type": "code",
      "execution_count": 3,
      "metadata": {
        "colab": {
          "base_uri": "https://localhost:8080/"
        },
        "id": "RPI7hQNJ2g7s",
        "outputId": "8e6984c6-96ec-4917-b27c-714bc891ed63"
      },
      "outputs": [
        {
          "output_type": "stream",
          "name": "stdout",
          "text": [
            "22.1606648199446\n"
          ]
        }
      ],
      "source": [
        "#@title Calculo del Indice de Masa Corporal\n",
        "estatura =  1.9#@param {type:\"number\"}\n",
        "Peso =  80#@param {type:\"number\"}\n",
        "print(Peso/(estatura*estatura))"
      ]
    }
  ]
}